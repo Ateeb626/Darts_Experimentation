{
 "cells": [
  {
   "cell_type": "code",
   "execution_count": null,
   "metadata": {},
   "outputs": [],
   "source": [
    "import pandas as pd\n",
    "import numpy as np\n",
    "from xgboost import XGBRegressor\n",
    "from sklearn.model_selection import train_test_split\n",
    "from sklearn.metrics import mean_squared_error, mean_absolute_error\n",
    "from sklearn.preprocessing import StandardScaler\n",
    "from darts import TimeSeries\n",
    "from sklearn.preprocessing import LabelEncoder\n",
    "from darts import TimeSeries\n",
    "from darts.models import RegressionModel\n",
    "from darts.models import LinearRegressionModel\n",
    "from darts.models import XGBModel\n",
    "from darts import metrics\n",
    "from sklearn.preprocessing import LabelEncoder"
   ]
  }
 ],
 "metadata": {
  "language_info": {
   "name": "python"
  }
 },
 "nbformat": 4,
 "nbformat_minor": 2
}
