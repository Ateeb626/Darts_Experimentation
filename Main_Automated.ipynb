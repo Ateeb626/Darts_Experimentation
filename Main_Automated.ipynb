{
 "cells": [
  {
   "cell_type": "code",
   "execution_count": null,
   "metadata": {},
   "outputs": [],
   "source": [
    "import pandas as pd \n",
    "import numpy as np\n",
    "# import holidays\n",
    "import xgboost as xgb\n",
    "import matplotlib.pyplot as plt\n",
    "from matplotlib import pyplot\n",
    "from sklearn.model_selection import train_test_split\n",
    "from sklearn.linear_model import Lasso\n",
    "from functions import preprocessing_data\n",
    "from functions import threshold_filtering\n"
   ]
  },
  {
   "cell_type": "code",
   "execution_count": null,
   "metadata": {},
   "outputs": [],
   "source": [
    "from functions import preprocessing_data\n",
    "\n",
    "file_path = \"merged_dynamic_pricing_data.csv\"\n",
    "\n",
    "dynamic_pricing_data = pd.read_csv(file_path)\n",
    "\n",
    "dynamic_pricing_data = preprocessing_data(dynamic_pricing_data)\n",
    "\n",
    "dynamic_pricing_data = threshold_filtering(dynamic_pricing_data)\n",
    "\n",
    "print(dynamic_pricing_data)"
   ]
  },
  {
   "cell_type": "code",
   "execution_count": null,
   "metadata": {},
   "outputs": [],
   "source": [
    "\n",
    "file_path = \"data.csv\"\n",
    "\n",
    "dynamic_pricing_data = pd.read_csv(file_path)\n",
    "\n",
    "dynamic_pricing_data = threshold_filtering(dynamic_pricing_data)\n",
    "\n",
    "print(dynamic_pricing_data)"
   ]
  }
 ],
 "metadata": {
  "language_info": {
   "name": "python"
  }
 },
 "nbformat": 4,
 "nbformat_minor": 2
}
